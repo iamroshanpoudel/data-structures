{
 "cells": [
  {
   "cell_type": "code",
   "execution_count": 14,
   "metadata": {},
   "outputs": [],
   "source": [
    "def reverse(x):\n",
    "    if x < 0:\n",
    "        sign = -1\n",
    "        x = -x\n",
    "    else:\n",
    "        sign = 1\n",
    "    \n",
    "    temp = []\n",
    "    while (x != 0):\n",
    "        print(x)\n",
    "        temp.append(x % 10)\n",
    "        x //= 10\n",
    "    rev = 0\n",
    "    print(temp)\n",
    "    for i in range(len(temp)):\n",
    "        rev = rev * 10 + temp[i]\n",
    "    return rev * sign"
   ]
  },
  {
   "cell_type": "code",
   "execution_count": 16,
   "metadata": {},
   "outputs": [
    {
     "name": "stdout",
     "output_type": "stream",
     "text": [
      "1534236469\n",
      "153423646\n",
      "15342364\n",
      "1534236\n",
      "153423\n",
      "15342\n",
      "1534\n",
      "153\n",
      "15\n",
      "1\n",
      "[9, 6, 4, 6, 3, 2, 4, 3, 5, 1]\n"
     ]
    },
    {
     "data": {
      "text/plain": [
       "9646324351"
      ]
     },
     "execution_count": 16,
     "metadata": {},
     "output_type": "execute_result"
    }
   ],
   "source": [
    "reverse(1534236469)"
   ]
  },
  {
   "cell_type": "code",
   "execution_count": null,
   "metadata": {},
   "outputs": [],
   "source": []
  }
 ],
 "metadata": {
  "kernelspec": {
   "display_name": "Python 3",
   "language": "python",
   "name": "python3"
  },
  "language_info": {
   "codemirror_mode": {
    "name": "ipython",
    "version": 3
   },
   "file_extension": ".py",
   "mimetype": "text/x-python",
   "name": "python",
   "nbconvert_exporter": "python",
   "pygments_lexer": "ipython3",
   "version": "3.8.3"
  }
 },
 "nbformat": 4,
 "nbformat_minor": 4
}
