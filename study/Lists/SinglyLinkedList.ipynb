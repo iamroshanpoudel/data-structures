{
 "cells": [
  {
   "cell_type": "code",
   "execution_count": 1,
   "metadata": {},
   "outputs": [],
   "source": [
    "class Node:\n",
    "    \n",
    "    # Constructor\n",
    "    def __init__(self, data, node):\n",
    "        self.data = data\n",
    "        self.next = node\n",
    "    \n",
    "    # print the Node\n",
    "    def __str__(self):\n",
    "        return str(self.data) + \" -> \"\n",
    "    "
   ]
  },
  {
   "cell_type": "code",
   "execution_count": 39,
   "metadata": {},
   "outputs": [],
   "source": [
    "class SinglyLinkedList:\n",
    "\n",
    "    # Constructor\n",
    "    def __init__(self):\n",
    "        self.length = 0\n",
    "        self.head = None\n",
    "        self.tail = None\n",
    "        \n",
    "    # add item to the front of the list\n",
    "    def push_front(self, data):\n",
    "        if (self.head == None):\n",
    "            temp = Node(data, None)\n",
    "            self.tail = temp\n",
    "            self.head = temp\n",
    "        else:\n",
    "            temp = Node(data, self.head)\n",
    "            self.head = temp       \n",
    "        self.length += 1\n",
    "\n",
    "    # add item to the end of the list\n",
    "    def push_end(self, data):\n",
    "        if (self.length == 0):\n",
    "            temp = Node(data, None)\n",
    "            self.tail = temp\n",
    "            self.head = self.tail\n",
    "        else:\n",
    "            temp = Node(data, None)\n",
    "            self.tail.next = temp\n",
    "            self.tail = temp\n",
    "        self.length += 1\n",
    "    \n",
    "    # removes the item from the front of the list\n",
    "    def pop_front(self):\n",
    "        if (self.length == 0):\n",
    "            raise Exception(\"Singly Linked List is empty! Invalid Operation!!\")\n",
    "        else:\n",
    "            temp = self.head.data\n",
    "            self.head = self.head.next\n",
    "        self.length -= 1\n",
    "        return temp \n",
    "    \n",
    "    # removes the last item of the list and returns it\n",
    "    def pop_end(self):\n",
    "        if (self.length == 0):\n",
    "            raise Exception(\"Singly Linked List is empty! Invalid Operation!!\")\n",
    "        elif (self.length == 1):\n",
    "            temp = self.head.data\n",
    "            self.head = None\n",
    "            self.tail = None\n",
    "        else:\n",
    "            node = self.head\n",
    "            while (node.next.next != None):\n",
    "                node = node.next\n",
    "            temp = node.next.data\n",
    "            node.next = None\n",
    "            self.tail = node\n",
    "        self.length -= 1\n",
    "        return temp             \n",
    "    \n",
    "    # delete the linked list\n",
    "    def delete(self):\n",
    "        self.head = None\n",
    "        \n",
    "    # returns whether an element is present on the list or not\n",
    "    def is_present(self, e):\n",
    "        temp = self.head\n",
    "        while (temp != None):\n",
    "            if temp.data == e:\n",
    "                print(temp)\n",
    "                return True\n",
    "            temp = temp.next\n",
    "        return False\n",
    "        \n",
    "    # String representation of singly linked list\n",
    "    def __str__(self):\n",
    "        temp = \"\"\n",
    "        node = self.head\n",
    "        while (node != None):\n",
    "            temp += str(node)\n",
    "            node = node.next\n",
    "        return temp\n",
    "    "
   ]
  },
  {
   "cell_type": "code",
   "execution_count": 40,
   "metadata": {},
   "outputs": [
    {
     "name": "stdout",
     "output_type": "stream",
     "text": [
      "1 -> 10 -> 100 -> \n",
      "1 -> 10 -> \n",
      "\n"
     ]
    }
   ],
   "source": [
    "a = SinglyLinkedList()\n",
    "a.push_front(1)\n",
    "a.push_end(10)\n",
    "a.push_end(100)\n",
    "print(a)\n",
    "a.pop_end()\n",
    "print(a)\n",
    "a.delete()\n",
    "print(a)"
   ]
  },
  {
   "cell_type": "code",
   "execution_count": null,
   "metadata": {},
   "outputs": [],
   "source": []
  },
  {
   "cell_type": "code",
   "execution_count": null,
   "metadata": {},
   "outputs": [],
   "source": [
    "\n"
   ]
  },
  {
   "cell_type": "code",
   "execution_count": null,
   "metadata": {},
   "outputs": [],
   "source": [
    "\n"
   ]
  },
  {
   "cell_type": "code",
   "execution_count": null,
   "metadata": {},
   "outputs": [],
   "source": []
  },
  {
   "cell_type": "code",
   "execution_count": null,
   "metadata": {},
   "outputs": [],
   "source": []
  },
  {
   "cell_type": "code",
   "execution_count": null,
   "metadata": {},
   "outputs": [],
   "source": []
  },
  {
   "cell_type": "code",
   "execution_count": null,
   "metadata": {},
   "outputs": [],
   "source": []
  },
  {
   "cell_type": "code",
   "execution_count": null,
   "metadata": {},
   "outputs": [],
   "source": []
  },
  {
   "cell_type": "code",
   "execution_count": null,
   "metadata": {},
   "outputs": [],
   "source": []
  },
  {
   "cell_type": "code",
   "execution_count": null,
   "metadata": {},
   "outputs": [],
   "source": []
  },
  {
   "cell_type": "code",
   "execution_count": null,
   "metadata": {},
   "outputs": [],
   "source": []
  }
 ],
 "metadata": {
  "kernelspec": {
   "display_name": "Python 3",
   "language": "python",
   "name": "python3"
  },
  "language_info": {
   "codemirror_mode": {
    "name": "ipython",
    "version": 3
   },
   "file_extension": ".py",
   "mimetype": "text/x-python",
   "name": "python",
   "nbconvert_exporter": "python",
   "pygments_lexer": "ipython3",
   "version": "3.8.2"
  }
 },
 "nbformat": 4,
 "nbformat_minor": 4
}
