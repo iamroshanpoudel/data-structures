{
 "cells": [
  {
   "cell_type": "markdown",
   "metadata": {},
   "source": [
    "# Implementation of binary tree using an array"
   ]
  },
  {
   "cell_type": "code",
   "execution_count": 1,
   "metadata": {},
   "outputs": [],
   "source": [
    "class BTree:\n",
    "    \"\"\"Implements a binary tree using an underlying array.\"\"\"\n",
    "    \n",
    "    def __init__(self, n):\n",
    "    \"\"\"Constructor for binary tree.\"\"\"\n",
    "        self.capacity = n\n",
    "        self.size = 0\n",
    "        self._array = [] * n\n",
    "    \n",
    "    def add_left(self, n:int, item):\n",
    "        \"\"\"Adds an item as the left child of a node\"\"\"\n",
    "        if (self.size == self.capacity):\n",
    "            raise Exception(\"Binary Tree full, cannot add any more nodes\")\n",
    "        left_index = n * 2 + 1\n",
    "        if self._array[left_index] != None:\n",
    "            raise Exception(\"Cannot add left child, another left child already exists\")\n",
    "        self._array[left_index] = item\n",
    "        self.size += 1\n",
    "    \n",
    "    def add_right(self, n:int, item):\n",
    "        \"\"\"Adds an item as the right child of a node\"\"\"\n",
    "        if (self.size == self.capacity):\n",
    "            raise Exception(\"Binary Tree full, cannot add any more nodes\")\n",
    "        right_index = n * 2 + 2\n",
    "        if (self._array[right_index] != None):\n",
    "            raise Exception(\"Cannot add right child, another right child already exists\")\n",
    "        self._array[right_index] = item\n",
    "        self.size += 1\n",
    "        \n",
    "    def __str__(self):\n",
    "        out = \"\"\n",
    "        for"
   ]
  },
  {
   "cell_type": "code",
   "execution_count": null,
   "metadata": {},
   "outputs": [],
   "source": []
  }
 ],
 "metadata": {
  "kernelspec": {
   "display_name": "Python 3",
   "language": "python",
   "name": "python3"
  },
  "language_info": {
   "codemirror_mode": {
    "name": "ipython",
    "version": 3
   },
   "file_extension": ".py",
   "mimetype": "text/x-python",
   "name": "python",
   "nbconvert_exporter": "python",
   "pygments_lexer": "ipython3",
   "version": "3.8.3"
  }
 },
 "nbformat": 4,
 "nbformat_minor": 4
}
