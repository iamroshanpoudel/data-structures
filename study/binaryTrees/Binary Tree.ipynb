{
 "cells": [
  {
   "cell_type": "markdown",
   "metadata": {},
   "source": [
    "# Implementation of binary tree using an array"
   ]
  },
  {
   "cell_type": "code",
   "execution_count": 54,
   "metadata": {},
   "outputs": [],
   "source": [
    "class BTree:\n",
    "    \"\"\"Implements a binary tree using an underlying array.\"\"\"\n",
    "    \n",
    "    def __init__(self, n, root):\n",
    "        \"\"\"Constructor for binary tree.\"\"\"\n",
    "        self.capacity = n\n",
    "        self.size = 1\n",
    "        self._array = [None] * n\n",
    "        self._array[0] = root\n",
    "    \n",
    "    def add_left(self, n:int, item):\n",
    "        \"\"\"Adds an item as the left child of a node\"\"\"\n",
    "        if (self.size == self.capacity):\n",
    "            raise Exception(\"Binary Tree full, cannot add any more nodes\")\n",
    "        left_index = n * 2 + 1\n",
    "        if self._array[left_index] != None:\n",
    "            raise Exception(\"Cannot add left child, another left child already exists\")\n",
    "        self._array[left_index] = item\n",
    "        self.size += 1\n",
    "    \n",
    "    def add_right(self, n:int, item):\n",
    "        \"\"\"Adds an item as the right child of a node\"\"\"\n",
    "        if (self.size == self.capacity):\n",
    "            raise Exception(\"Binary Tree full, cannot add any more nodes\")\n",
    "        right_index = n * 2 + 2\n",
    "        if (self._array[right_index] != None):\n",
    "            raise Exception(\"Cannot add right child, another right child already exists\")\n",
    "        self._array[right_index] = item\n",
    "        self.size += 1\n"
   ]
  },
  {
   "cell_type": "code",
   "execution_count": 53,
   "metadata": {},
   "outputs": [],
   "source": [
    "tree = BTree(n=7, root=0)\n",
    "tree.add_left(0, 1)\n",
    "tree.add_right(0, 2)\n",
    "tree.add_left(1, 3)\n",
    "tree.add_right(1, 4)\n",
    "tree.add_left(2, 5)\n",
    "tree.add_right(2, 6)\n"
   ]
  },
  {
   "cell_type": "code",
   "execution_count": null,
   "metadata": {},
   "outputs": [],
   "source": []
  },
  {
   "cell_type": "code",
   "execution_count": null,
   "metadata": {},
   "outputs": [],
   "source": []
  },
  {
   "cell_type": "code",
   "execution_count": null,
   "metadata": {},
   "outputs": [],
   "source": []
  },
  {
   "cell_type": "code",
   "execution_count": null,
   "metadata": {},
   "outputs": [],
   "source": [
    "\n"
   ]
  },
  {
   "cell_type": "code",
   "execution_count": null,
   "metadata": {},
   "outputs": [],
   "source": []
  }
 ],
 "metadata": {
  "kernelspec": {
   "display_name": "Python 3",
   "language": "python",
   "name": "python3"
  },
  "language_info": {
   "codemirror_mode": {
    "name": "ipython",
    "version": 3
   },
   "file_extension": ".py",
   "mimetype": "text/x-python",
   "name": "python",
   "nbconvert_exporter": "python",
   "pygments_lexer": "ipython3",
   "version": "3.8.3"
  }
 },
 "nbformat": 4,
 "nbformat_minor": 4
}
